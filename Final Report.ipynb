{
 "cells": [
  {
   "cell_type": "markdown",
   "metadata": {},
   "source": [
    "# Final Report - Battle of the Neighborhoods Austin, TX"
   ]
  },
  {
   "cell_type": "markdown",
   "metadata": {},
   "source": [
    "## 1. Introduction:    "
   ]
  },
  {
   "cell_type": "markdown",
   "metadata": {},
   "source": [
    "Austin, Texas topped the list of fastest growing cities in the United States for the past decade, topping out at a rate of 170 new residents per day in 2019. With remote work becoming more widely accepted in a post pandemic world, it is expected that the current trend of residents moving from places like California (8% of total migration) and New York (3.3% of migration) will continue into the next year as people flee from places with higher costs of living. What makes Austin such an attractive option for residents looking to relocate? \n",
    "\n",
    "This project will attempt to create a guide of the neighborhoods of Austin, specifically their cost of living and makeup of the businesses and amenities of each neighborhood. This in turn will help residents determine which neighborhood is right for them when looking for an area to relocate to. \n",
    "\n",
    "People that are looking to relocate may find this guide useful in exploring the different areas of the city to check which one matches their interests and budget. City planners and people looking to start businesses may also find this analysis beneficial to them to figure out what areas they could potentially open businesses in based on the current portfolio of venues in the area. "
   ]
  },
  {
   "cell_type": "markdown",
   "metadata": {},
   "source": [
    "## 2. Data"
   ]
  },
  {
   "cell_type": "markdown",
   "metadata": {},
   "source": [
    "Foursquare API – used to obtain data on the venues in the area and their geographical coordinates \n",
    "The data will be in the form of a json file that will be cleaned to a dataframe that contains the following information: Neighborhood, Latitude, Longitude , Venue,  Name"
   ]
  },
  {
   "cell_type": "markdown",
   "metadata": {},
   "source": [
    "Zillow API – used to obtain data on house and rental prices in each area. This data will then be grouped by neighborhood to provide some statistics on housing prices in the area. The data will be transformed into a pandas dataframe and joined with the forsquare data on popular venues in the neighborhood"
   ]
  },
  {
   "cell_type": "markdown",
   "metadata": {},
   "source": [
    "Austin Neighborhood Data - .csv file of geofence of boundaries of the city of Austin neighborhoods. This was downloaded from the following url https://data.austintexas.gov/api/views/nz5f-3t2e/rows.json?accessType=DOWNLOAD"
   ]
  },
  {
   "cell_type": "markdown",
   "metadata": {},
   "source": [
    "## 3. Methodology"
   ]
  },
  {
   "cell_type": "markdown",
   "metadata": {},
   "source": [
    "#### Neighborhood Data"
   ]
  },
  {
   "cell_type": "markdown",
   "metadata": {},
   "source": [
    "We import the austin neighborhood data using pandas read.csv function to get a list of the neighborhoods in the city as well as the geographical coordinates. We will drop any unecessary coulums and remain with the key data points planning_a (neighborhood), Latitude, and Longitude. This information will then be stored in a pandas data frame"
   ]
  },
  {
   "cell_type": "markdown",
   "metadata": {},
   "source": [
    "![Austin](ANH.jpg)"
   ]
  },
  {
   "cell_type": "markdown",
   "metadata": {},
   "source": [
    "Using the geographical coordinates, we will find the center of each neighborhood and plot on a map using the python library folium."
   ]
  },
  {
   "cell_type": "markdown",
   "metadata": {},
   "source": [
    "![Austin](AustinMap.jpg)"
   ]
  },
  {
   "cell_type": "markdown",
   "metadata": {},
   "source": [
    "#### Foursquare API"
   ]
  },
  {
   "cell_type": "markdown",
   "metadata": {},
   "source": [
    "Using the Foursquare API, we will find venues that are within a 500 meter radius of the centers of these neighborhood points. For the sake of this project we will use all neighborhoods regardless of how many venues are in foursquare. Some neighborhoods have less than 10 venues within 500m of their geographical coordinates"
   ]
  },
  {
   "cell_type": "markdown",
   "metadata": {},
   "source": [
    "The API call will give us some data on the venues within the vicinity, which can then be used to determine the frequency of appearances any given venue has in the data. As we can see below each neighborhood is listed with the top 5 venues that appear within that radius as a \"frequency\"."
   ]
  },
  {
   "cell_type": "markdown",
   "metadata": {},
   "source": [
    "![AustinVenues](AVenues.jpg)"
   ]
  },
  {
   "cell_type": "markdown",
   "metadata": {},
   "source": [
    "Then, we will modify the dataset to create columns based on the ranking of venues and how many times they appear in the data. This will then be converted into one - hot encoding to normalize the data so that we can use K means Clustering approach to group neighborhoods together by these features"
   ]
  },
  {
   "cell_type": "markdown",
   "metadata": {},
   "source": [
    "![AustinV](APopular.jpg)"
   ]
  },
  {
   "cell_type": "markdown",
   "metadata": {},
   "source": [
    "#### K Means Clustering"
   ]
  },
  {
   "cell_type": "markdown",
   "metadata": {},
   "source": [
    "Once the venues data has been converted, we then can apply the K means clustering to apply a cluster label to each neighborhood "
   ]
  },
  {
   "cell_type": "markdown",
   "metadata": {},
   "source": [
    "![AustinC](AustinC.jpg)"
   ]
  },
  {
   "cell_type": "markdown",
   "metadata": {},
   "source": [
    "Finally we will apply the clusters to the map to visualize the locations of each cluster in proximity to the others using folium"
   ]
  },
  {
   "cell_type": "markdown",
   "metadata": {},
   "source": [
    "![AustinClusters](AustinClusters.jpg)"
   ]
  },
  {
   "cell_type": "markdown",
   "metadata": {},
   "source": [
    "## 4. Results"
   ]
  },
  {
   "cell_type": "markdown",
   "metadata": {},
   "source": [
    "#### Cluster Label 0"
   ]
  },
  {
   "cell_type": "markdown",
   "metadata": {},
   "source": [
    "This cluster contains just one neighborhood from the list, Pleasant Valley. Based on the most common venues this cluster seems like a more industrial neighborhood on the outskirts on the city with a relatively low average price for a home when compared to the other neighborhoods"
   ]
  },
  {
   "cell_type": "markdown",
   "metadata": {},
   "source": [
    "![AustinClusters](Cluster0.jpg)"
   ]
  },
  {
   "cell_type": "markdown",
   "metadata": {},
   "source": [
    "#### Cluster Label 1"
   ]
  },
  {
   "cell_type": "markdown",
   "metadata": {},
   "source": [
    "This cluster contains 6 neighborhoods from Austin and seems to be primarily driven by outdoor and recreational venues. All 6 neighborhoods have \"Park\" as one of the top 5 most common venues as well as other similar venues such as playgrounds, trails, adn sports fields. They also seem to have filipino/falafel and fast food restaurants in common with one another. Based on this list we can determine that these neighborhoods are more than likely not as lively in terms of nightlife, and are located further away from the city center."
   ]
  },
  {
   "cell_type": "markdown",
   "metadata": {},
   "source": [
    "![AustinClusters](Cluster1.jpg)"
   ]
  },
  {
   "cell_type": "markdown",
   "metadata": {},
   "source": [
    "#### Cluster Label 2"
   ]
  },
  {
   "cell_type": "markdown",
   "metadata": {},
   "source": [
    "This cluster was the largest of the three clusters and contains a wide variety of average home prices and venues. Some similar characteristics, however, are noticeably different from the other two clusters as these neighborhoods seem to have more bars, pubs, mexican restaurants, and taco places than the other two. "
   ]
  },
  {
   "cell_type": "markdown",
   "metadata": {},
   "source": [
    "![AustinClusters](Cluster2.jpg)"
   ]
  },
  {
   "cell_type": "markdown",
   "metadata": {},
   "source": [
    "The Zillow API data for average housing prices can be seen below as well"
   ]
  },
  {
   "cell_type": "markdown",
   "metadata": {},
   "source": [
    "![AustinClusters](AHomes.jpg)"
   ]
  },
  {
   "cell_type": "markdown",
   "metadata": {},
   "source": [
    "## 5. Discussion "
   ]
  },
  {
   "cell_type": "markdown",
   "metadata": {},
   "source": [
    "If one was considering a move to Austin this method of classifying neighborhoods could be beneficial in helping identify desirable types of venues in close proximity to the neighborhood. \n",
    "\n",
    "This data could also help determine which areas of the city are within their personal budget. "
   ]
  },
  {
   "cell_type": "markdown",
   "metadata": {},
   "source": [
    "#### Top Recommendations for a high budget"
   ]
  },
  {
   "cell_type": "markdown",
   "metadata": {},
   "source": [
    "If money is not an issue, these three neighborhoods boast the top average home prices in the city. They also are in close proximity to the city center and have plenty of recreational activities based on the most popular venues below\n",
    "\n",
    "1. Downtown\n",
    "2. Old West Austin\n",
    "3. Zilker"
   ]
  },
  {
   "cell_type": "markdown",
   "metadata": {},
   "source": [
    "![AustinClusters](Top3.jpg)"
   ]
  },
  {
   "cell_type": "markdown",
   "metadata": {},
   "source": [
    "#### Top Recommendations for nightlife "
   ]
  },
  {
   "cell_type": "markdown",
   "metadata": {},
   "source": [
    "These recommendations are for people more interested in the nightlife and bar scene Austin has to offer, then we would recommend these two neighborhoods based on the mix of their venues \n",
    "1. Bouldin Creek \n",
    "2. Central East Austin"
   ]
  },
  {
   "cell_type": "markdown",
   "metadata": {},
   "source": [
    "#### Top Recommendations for a more laid back atmosphere"
   ]
  },
  {
   "cell_type": "markdown",
   "metadata": {},
   "source": [
    "These recommendations are for people that are not interested in nightlife and want a more quiet neighborhood to live in. They also have a medium range home value for the area.\n",
    "\n",
    "1. Rosewood\n",
    "2. West Oak Hill"
   ]
  },
  {
   "cell_type": "markdown",
   "metadata": {},
   "source": [
    "![AustinClusters](A3.jpg)"
   ]
  },
  {
   "cell_type": "markdown",
   "metadata": {},
   "source": [
    "## 6. Conclusion"
   ]
  },
  {
   "cell_type": "markdown",
   "metadata": {},
   "source": [
    "This project aimed to help assist individuals looking to move to austin with exploring areas of the city before planning an in person visit. This was done by collecting data from sources such as the austin city government data website, Foursquare API, and Zillow to create profiles for neighborhoods based on their unique characteristics. \n",
    "\n",
    "From there, the K means cluster algorithm was used to group together neighborhoods based on their characteristics into three different clusters. This provides a good baseline which would assist someone moving to the city in deciding which area was right for them and their particular situation."
   ]
  },
  {
   "cell_type": "markdown",
   "metadata": {},
   "source": [
    "#### Areas For Improvement"
   ]
  },
  {
   "cell_type": "markdown",
   "metadata": {},
   "source": [
    "This project could be improved by taking out neighborhoods with less than 10 venues in foursquare, or by grouping smaller neighborhoods together into meta neighborhoods. Sometimes there was not enough venue data to properly classify the neighborhood compared to other neighborhoods that had significantly more venues. This project could also be improved by creating polygon shapes in folium to visualize neighborhood boundaries which would further help in segmenting which venues were a part of which neighborhood."
   ]
  },
  {
   "cell_type": "markdown",
   "metadata": {},
   "source": [
    "#### Libraries used in this project"
   ]
  },
  {
   "cell_type": "markdown",
   "metadata": {},
   "source": [
    "![AustinClusters](libraries.jpg)"
   ]
  }
 ],
 "metadata": {
  "kernelspec": {
   "display_name": "Python 3",
   "language": "python",
   "name": "python3"
  },
  "language_info": {
   "codemirror_mode": {
    "name": "ipython",
    "version": 3
   },
   "file_extension": ".py",
   "mimetype": "text/x-python",
   "name": "python",
   "nbconvert_exporter": "python",
   "pygments_lexer": "ipython3",
   "version": "3.7.6"
  }
 },
 "nbformat": 4,
 "nbformat_minor": 4
}
